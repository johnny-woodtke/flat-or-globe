{
 "cells": [
  {
   "cell_type": "code",
   "execution_count": 10,
   "metadata": {},
   "outputs": [],
   "source": [
    "# conversions\n",
    "mi_to_km = 1.60934\n",
    "mi_to_ft = 5280\n",
    "\n",
    "def get_parameters():\n",
    "    params = dict()\n",
    "\n",
    "    # earth\n",
    "    params['r_km'] = 6378\n",
    "\n",
    "    # sawnee mountain \n",
    "    h1_ft = 1650\n",
    "    params['h1_km'] = h1_ft / mi_to_ft * mi_to_km\n",
    "\n",
    "    # atlanta\n",
    "    frac_boa_visible = 0.95\n",
    "    height_boa_ft = 1000\n",
    "    el_atl_ft = 1000\n",
    "    params['h2_km'] = (height_boa_ft * (1 - frac_boa_visible) + el_atl_ft) / mi_to_ft * mi_to_km # h2_km is the lowest point in kilometers of the building visible from blood mountain\n",
    "\n",
    "    # distance\n",
    "    d_mi = 36\n",
    "    params['d_km'] = d_mi * mi_to_km\n",
    "\n",
    "    return params"
   ]
  },
  {
   "cell_type": "code",
   "execution_count": 11,
   "metadata": {},
   "outputs": [
    {
     "name": "stdout",
     "output_type": "stream",
     "text": [
      "x = 1029.913337074313 ft\n"
     ]
    }
   ],
   "source": [
    "import numpy as np\n",
    "from scipy.optimize import fsolve\n",
    "sqrt = np.emath.sqrt\n",
    "cos = np.cos\n",
    "\n",
    "params = get_parameters()\n",
    "r_km = params['r_km']\n",
    "h1_km = params['h1_km']\n",
    "h2_km = params['h2_km']\n",
    "d_km = params['d_km']\n",
    "\n",
    "a_km = r_km + h1_km\n",
    "c_km = r_km + h2_km\n",
    "b_km = sqrt(a_km**2 + c_km**2 - 2 * a_km * c_km * cos(d_km / r_km))\n",
    "s_km = (a_km + b_km + c_km) / 2\n",
    "\n",
    "# Equation to compute x in feet\n",
    "def f(x_ft):\n",
    "    x_km = x_ft / mi_to_ft * mi_to_km\n",
    "    return (2 / b_km) * sqrt(s_km * (s_km - a_km) * (s_km - b_km) * (s_km - c_km)) - r_km - x_km\n",
    "\n",
    "# Solve for x in feet\n",
    "x_ft = fsolve(f, 1000)\n",
    "print(\"x = {} ft\".format(x_ft[0]))"
   ]
  },
  {
   "cell_type": "code",
   "execution_count": null,
   "metadata": {},
   "outputs": [],
   "source": []
  }
 ],
 "metadata": {
  "kernelspec": {
   "display_name": "Python 3",
   "language": "python",
   "name": "python3"
  },
  "language_info": {
   "codemirror_mode": {
    "name": "ipython",
    "version": 3
   },
   "file_extension": ".py",
   "mimetype": "text/x-python",
   "name": "python",
   "nbconvert_exporter": "python",
   "pygments_lexer": "ipython3",
   "version": "3.9.16"
  },
  "orig_nbformat": 4
 },
 "nbformat": 4,
 "nbformat_minor": 2
}
